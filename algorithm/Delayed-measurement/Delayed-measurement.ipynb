{
 "cells": [
  {
   "cell_type": "code",
   "execution_count": null,
   "id": "a6af84b7-1992-411f-8af6-253352e4f2dc",
   "metadata": {},
   "outputs": [],
   "source": [
    "Indirect realization of measurement-based quantum feedback by the delayed-measurement method"
   ]
  },
  {
   "cell_type": "code",
   "execution_count": 1,
   "id": "cdd0d69e-4e43-46b7-bbd1-caf283273bf5",
   "metadata": {},
   "outputs": [],
   "source": [
    "from quafu import User\n",
    "import numpy as np\n",
    "import matplotlib\n",
    "from matplotlib import pyplot as plt\n",
    "user = User(\"<Your token>\")\n",
    "user.save_apitoken()"
   ]
  },
  {
   "cell_type": "code",
   "execution_count": 2,
   "id": "b831007f-35eb-4a0e-81db-2132069a1f1c",
   "metadata": {},
   "outputs": [
    {
     "name": "stdout",
     "output_type": "stream",
     "text": [
      "system_name\t qubits\t status\n",
      "ScQ-P10   \t 10   \t Obsolete\n",
      "ScQ-P18   \t 18   \t Obsolete\n",
      "Baiwang   \t 136  \t Obsolete\n",
      "ScQ-P102  \t 102  \t Obsolete\n",
      "ScQ-Sim10 \t 10   \t Online\n",
      "Miaofeng  \t 108  \t Maintenance\n",
      "Dongling  \t 106  \t Maintenance\n",
      "Haituo    \t 105  \t Offline\n",
      "Baihua    \t 110  \t Offline\n",
      "Yunmeng   \t 156  \t Obsolete\n",
      "Xiang     \t 35   \t Obsolete\n",
      "ScQ-P21test\t 2    \t Obsolete\n",
      "ScQ-P21   \t 9    \t Online\n",
      "ScQ-Sim   \t 2    \t Offline\n"
     ]
    }
   ],
   "source": [
    "available_backends = user.get_available_backends()"
   ]
  },
  {
   "cell_type": "code",
   "execution_count": 3,
   "id": "d2595cd1-5ea6-4382-92fb-f21001068e20",
   "metadata": {},
   "outputs": [],
   "source": [
    "import numpy as np\n",
    "from quafu import QuantumCircuit"
   ]
  },
  {
   "cell_type": "markdown",
   "id": "46ed7295-9d25-4ced-8ba4-ed98f0dc29f1",
   "metadata": {},
   "source": [
    "During a gate-based quantum computing process, some quantum gates may be controlled by measurement results of other qubits. This is usually called measurement-based quantum feedback. Currently, this operation is available in pyquafu, but not supported by the real Quafu quantum processors yet.\n",
    "\n",
    "Luckily, there are several methods to realize measurement-based quantum feedback indirectly. In this demo, we will show one of the methods to equivalently perform measurement-based quantum feedback. We call this method the delayed-measurement method.\n",
    "\n",
    "Imagine a system of two qubits $Q_C$ and $Q_T$, and a unitary quantum logic gate $A$. The basic idea of the delayed-measurement method comes from the equivality of the two processes:\n",
    "\n",
    "(1) Measuring $Q_C$ and obtain the result $s$. If $s=1$, perform the gate $A$ on $Q_T$.\n",
    "\n",
    "(2) Performing a controlled-$A$ gate between $Q_C$ and $Q_T$:\n",
    "\n",
    "$U_{CA}=\\ket{0}_C\\bra{0}_C\\otimes I_T+\\ket{1}_C\\bra{1}_C\\otimes A_T$,\n",
    "\n",
    "and measure $Q_C$.\n",
    "\n",
    "It is obvious that the first condition is a typical measurement-based quantum feedback. Thus, the measurement-based quantum feedback can be indirectly realized by replacing the single-qubit gate $A$ with a controlled-$A$ gate between the control qubit and the target qubit, and delaying the measurement of the control qubit to the end of the process.\n",
    "\n",
    "Now, as an example, we consider a quantum circuit for quantum teleportation, which requires measurement-based quantum feedback:"
   ]
  },
  {
   "cell_type": "code",
   "execution_count": 4,
   "id": "15482c0a-95ff-401b-bba7-4e1834264331",
   "metadata": {},
   "outputs": [],
   "source": [
    "qc1 = QuantumCircuit(3)\n",
    "\n",
    "#Initialization\n",
    "\n",
    "#Input. The input here is set to the |1> state.\n",
    "\n",
    "qc1.x(0)\n",
    "\n",
    "#Preparation of other qubits. Note that here we use an equivalent circuit of Bell gate, which is implemented in PRA 97, 032320 (2018).\n",
    "\n",
    "qc1.z(1)\n",
    "qc1.h(2)\n",
    "qc1.cz(1, 2)\n",
    "qc1.h(1)\n",
    "qc1.cz(1, 2)\n",
    "qc1.h(2)\n",
    "\n",
    "#Main process\n",
    "\n",
    "qc1.cx(0, 1)\n",
    "qc1.h(0)\n",
    "\n",
    "qc1.measure([0, 1],  [0, 1])\n",
    "\n",
    "qc1.x(2).cif([1], 1)\n",
    "qc1.z(2).cif([0], 1)\n",
    "\n",
    "# Obtaining the final result\n",
    "\n",
    "qc1.measure([2],  [2])"
   ]
  },
  {
   "cell_type": "markdown",
   "id": "44e2060b-a333-46bf-91d3-c7f4d760dbf5",
   "metadata": {},
   "source": [
    "Although we can test this circuit on the QASM simulator, it is yet unavailable on any real Quafu device.\n",
    "\n",
    "Next, we modify the above circuit with the delayed-measurement approach:"
   ]
  },
  {
   "cell_type": "code",
   "execution_count": 5,
   "id": "9e97df0c-e203-4d23-bd89-3c78c56d769d",
   "metadata": {},
   "outputs": [],
   "source": [
    "qc2 = QuantumCircuit(3)\n",
    "\n",
    "#Initialization\n",
    "\n",
    "#Input\n",
    "qc2.x(0)\n",
    "\n",
    "#Preparation of other qubits.\n",
    "\n",
    "qc2.z(1)\n",
    "qc2.h(2)\n",
    "qc2.cz(1, 2)\n",
    "qc2.h(1)\n",
    "qc2.cz(1, 2)\n",
    "qc2.h(2)\n",
    "\n",
    "#Main process\n",
    "\n",
    "qc2.cx(0, 1)\n",
    "qc2.h(0)\n",
    "\n",
    "qc2.cx(1, 2)\n",
    "qc2.cz(0, 2)\n",
    "\n",
    "measures0 = [0, 1]\n",
    "cbits0 = [0, 1]\n",
    "qc2.measure(measures0,  cbits=cbits0)\n",
    "\n",
    "# Obtaining the final result\n",
    "measures2 = [2]\n",
    "cbits2 = [2]\n",
    "qc2.measure(measures2,  cbits=cbits2)"
   ]
  },
  {
   "cell_type": "code",
   "execution_count": 6,
   "id": "6dc774d8-4224-43ba-b0ca-f7a90bc87245",
   "metadata": {},
   "outputs": [],
   "source": [
    "#qc2.plot_circuit()"
   ]
  },
  {
   "cell_type": "markdown",
   "id": "2e23d0cb-5c23-4975-bdda-ba8b67a3946c",
   "metadata": {},
   "source": [
    "All the operations mentioned in this circuit are supported by the real Quafu devices. Thus, we can directly perform this circuit using the real devices.\n",
    "\n",
    "Now, we firstly run both the two circuits using the QASM simulator:"
   ]
  },
  {
   "cell_type": "code",
   "execution_count": 7,
   "id": "a920bbcb-057c-492d-b912-b2b9178a1a77",
   "metadata": {},
   "outputs": [
    {
     "name": "stdout",
     "output_type": "stream",
     "text": [
      "{'000': 22, '011': 27, '100': 23, '111': 28}\n"
     ]
    },
    {
     "data": {
      "text/plain": [
       "<BarContainer object of 4 artists>"
      ]
     },
     "execution_count": 7,
     "metadata": {},
     "output_type": "execute_result"
    },
    {
     "data": {
      "image/png": "[encoded data removed]",
      "text/plain": [
       "<Figure size 640x480 with 1 Axes>"
      ]
     },
     "metadata": {},
     "output_type": "display_data"
    }
   ],
   "source": [
    "from quafu import Task\n",
    "from quafu import simulate\n",
    "simu_res1 = simulate(qc1)\n",
    "counts = simu_res1.counts\n",
    "#simu_res1.plot_probabilities()\n",
    "print(counts)\n",
    "\n",
    "names = list(counts.keys())\n",
    "values = list(counts.values())\n",
    "\n",
    "plt.bar(range(len(counts)), values, tick_label=names)"
   ]
  },
  {
   "cell_type": "code",
   "execution_count": 8,
   "id": "2c6ac082-9b1e-41e3-8723-4e49c251c03d",
   "metadata": {},
   "outputs": [
    {
     "data": {
      "image/png": "[encoded data removed]",
      "text/plain": [
       "<Figure size 640x480 with 1 Axes>"
      ]
     },
     "metadata": {},
     "output_type": "display_data"
    }
   ],
   "source": [
    "simu_res2 = simulate(qc2)\n",
    "simu_res2.plot_probabilities()"
   ]
  },
  {
   "cell_type": "markdown",
   "id": "944d1971-37ab-4ceb-9493-b346e72428bc",
   "metadata": {},
   "source": [
    "Although yet we cannot strictly prove the equivalency of the two circuits via quantum process tomography, it is by and large clear that the delayed-measurement approach can indirectly realize measurement-based quantum feedback -- and it can be realized directly on the real Quafu devices, without any improvement on the hardware.\n",
    "\n",
    "Now, we perform the delayed-measurement circuit using a real Quafu device:"
   ]
  },
  {
   "cell_type": "code",
   "execution_count": 9,
   "id": "89c48d97-6957-4bc2-b3b4-31507ff2391c",
   "metadata": {},
   "outputs": [],
   "source": [
    "task = Task()"
   ]
  },
  {
   "cell_type": "code",
   "execution_count": 12,
   "id": "753c5c1e-25d2-43be-960d-af6d1c35b33d",
   "metadata": {},
   "outputs": [],
   "source": [
    "task.config(backend=\"ScQ-P21\", shots=10000, compile=True)"
   ]
  },
  {
   "cell_type": "code",
   "execution_count": 13,
   "id": "d36f7b93-7fd5-4a52-8e01-558356de5bed",
   "metadata": {},
   "outputs": [],
   "source": [
    "res = task.send(qc2, wait=True)"
   ]
  },
  {
   "cell_type": "code",
   "execution_count": 14,
   "id": "51a4d12e-4ce4-46b2-b141-9eea2cbaa267",
   "metadata": {},
   "outputs": [
    {
     "name": "stdout",
     "output_type": "stream",
     "text": [
      "{'000': 0.0156, '001': 0.2225, '010': 0.0148, '011': 0.2255, '100': 0.0251, '101': 0.2392, '110': 0.0331, '111': 0.2242}\n"
     ]
    }
   ],
   "source": [
    "print(res.probabilities) #probabilities"
   ]
  },
  {
   "cell_type": "code",
   "execution_count": 15,
   "id": "42d1d0b1-583b-4e46-9f59-c7f673810085",
   "metadata": {},
   "outputs": [
    {
     "data": {
      "image/png": "[encoded data removed]",
      "text/plain": [
       "<Figure size 640x480 with 1 Axes>"
      ]
     },
     "metadata": {},
     "output_type": "display_data"
    }
   ],
   "source": [
    "res.plot_probabilities()"
   ]
  },
  {
   "cell_type": "markdown",
   "id": "e4a8f770-d372-4ef0-a6ef-19ef6f9fe5a2",
   "metadata": {},
   "source": [
    "The results obtained from the real Quafu device also proves the effectiveness of the delayed-measurement method.\n",
    "\n",
    "Before the end of this demo, we would like to note that, the delayed measurement in the delayed-measurement approach does not impact the result of the quantum computing process. Thus, the delayed-measurement approach not only provides us an indirect way to perform measurement-based quantum feedback, but also behaves robust against quantum measurement error."
   ]
  },
  {
   "cell_type": "code",
   "execution_count": null,
   "id": "d11cad29-dcc4-4bdf-9257-59d5cfd2aa3b",
   "metadata": {},
   "outputs": [],
   "source": []
  }
 ],
 "metadata": {
  "kernelspec": {
   "display_name": "Python 3 (ipykernel)",
   "language": "python",
   "name": "python3"
  },
  "language_info": {
   "codemirror_mode": {
    "name": "ipython",
    "version": 3
   },
   "file_extension": ".py",
   "mimetype": "text/x-python",
   "name": "python",
   "nbconvert_exporter": "python",
   "pygments_lexer": "ipython3",
   "version": "3.11.9"
  }
 },
 "nbformat": 4,
 "nbformat_minor": 5
}
